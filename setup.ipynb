{
 "cells": [
  {
   "cell_type": "code",
   "execution_count": null,
   "metadata": {},
   "outputs": [],
   "source": [
    "from setuptools import setup, find_packages\n",
    "\n",
    "setup(\n",
    "    name='word2vec_similarity',\n",
    "    version='1.0.0',\n",
    "    author='Vinamrata Rani',\n",
    "    author_email='vinamrata_2k22dsc18@dtu.ac.in',\n",
    "    description='A package for Word2Vec similarity calculations',\n",
    "    packages=find_packages(),\n",
    "    install_requires=[\n",
    "        'gensim','numpy', 'python','nltk'\n",
    "        \n",
    "    ],\n",
    ")"
   ]
  }
 ],
 "metadata": {
  "kernelspec": {
   "display_name": "Python 3",
   "language": "python",
   "name": "python3"
  },
  "language_info": {
   "codemirror_mode": {
    "name": "ipython",
    "version": 3
   },
   "file_extension": ".py",
   "mimetype": "text/x-python",
   "name": "python",
   "nbconvert_exporter": "python",
   "pygments_lexer": "ipython3",
   "version": "3.8.3"
  }
 },
 "nbformat": 4,
 "nbformat_minor": 4
}
